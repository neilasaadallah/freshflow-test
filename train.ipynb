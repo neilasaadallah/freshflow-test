{
 "cells": [
  {
   "cell_type": "code",
   "execution_count": 1,
   "id": "f0e992be",
   "metadata": {},
   "outputs": [],
   "source": [
    "#Importing the initial libraries required for our analysis\n",
    "import numpy as np\n",
    "import pandas as pd\n",
    "import matplotlib.pyplot as plt\n",
    "import seaborn as sns\n",
    "sns.set_style(\"whitegrid\")\n",
    "import statsmodels.api as sm\n",
    "import warnings\n",
    "warnings.filterwarnings('ignore')\n",
    "\n",
    "import os\n",
    "for dirname, _, filenames in os.walk('/kaggle/input'):\n",
    "    for filename in filenames:\n",
    "        print(os.path.join(dirname, filename))"
   ]
  },
  {
   "cell_type": "code",
   "execution_count": 2,
   "id": "28b8a6b4",
   "metadata": {},
   "outputs": [],
   "source": [
    "from sklearn.model_selection import train_test_split\n",
    "from sklearn.linear_model import LinearRegression\n"
   ]
  },
  {
   "cell_type": "code",
   "execution_count": 3,
   "id": "5ec6a5db",
   "metadata": {},
   "outputs": [],
   "source": [
    "#Upload Data input for training\n",
    "data = pd.read_csv(\"data_input.csv\",sep=\",\")"
   ]
  },
  {
   "cell_type": "code",
   "execution_count": 4,
   "id": "73a9d723",
   "metadata": {},
   "outputs": [],
   "source": [
    "data.index=data['day']"
   ]
  },
  {
   "cell_type": "code",
   "execution_count": 5,
   "id": "b90b3f8d",
   "metadata": {},
   "outputs": [],
   "source": [
    "data.sort_index(inplace=True)"
   ]
  },
  {
   "cell_type": "code",
   "execution_count": 6,
   "id": "7c4a8983",
   "metadata": {},
   "outputs": [],
   "source": [
    "data.index = pd.to_datetime(data.index)\n",
    "data.index=data.index.strftime(\"%Y-%m-%d\")"
   ]
  },
  {
   "cell_type": "code",
   "execution_count": 7,
   "id": "7d0f510c",
   "metadata": {},
   "outputs": [
    {
     "data": {
      "text/html": [
       "<div>\n",
       "<style scoped>\n",
       "    .dataframe tbody tr th:only-of-type {\n",
       "        vertical-align: middle;\n",
       "    }\n",
       "\n",
       "    .dataframe tbody tr th {\n",
       "        vertical-align: top;\n",
       "    }\n",
       "\n",
       "    .dataframe thead th {\n",
       "        text-align: right;\n",
       "    }\n",
       "</style>\n",
       "<table border=\"1\" class=\"dataframe\">\n",
       "  <thead>\n",
       "    <tr style=\"text-align: right;\">\n",
       "      <th></th>\n",
       "      <th>day</th>\n",
       "      <th>item_number</th>\n",
       "      <th>item_name</th>\n",
       "      <th>purchase_price</th>\n",
       "      <th>suggested_retail_price</th>\n",
       "      <th>orders_quantity</th>\n",
       "      <th>sales_quantity</th>\n",
       "      <th>revenue</th>\n",
       "      <th>profit_margin</th>\n",
       "      <th>rest_quantity</th>\n",
       "    </tr>\n",
       "    <tr>\n",
       "      <th>day</th>\n",
       "      <th></th>\n",
       "      <th></th>\n",
       "      <th></th>\n",
       "      <th></th>\n",
       "      <th></th>\n",
       "      <th></th>\n",
       "      <th></th>\n",
       "      <th></th>\n",
       "      <th></th>\n",
       "      <th></th>\n",
       "    </tr>\n",
       "  </thead>\n",
       "  <tbody>\n",
       "    <tr>\n",
       "      <th>2021-04-03</th>\n",
       "      <td>2021-04-03</td>\n",
       "      <td>80028349</td>\n",
       "      <td>UH ZWIEBELN DE-HE I 1KG GS</td>\n",
       "      <td>0.674928</td>\n",
       "      <td>1.055314</td>\n",
       "      <td>0.0</td>\n",
       "      <td>23.0</td>\n",
       "      <td>22.77</td>\n",
       "      <td>0.380386</td>\n",
       "      <td>-23.0</td>\n",
       "    </tr>\n",
       "    <tr>\n",
       "      <th>2021-04-03</th>\n",
       "      <td>2021-04-03</td>\n",
       "      <td>80101923</td>\n",
       "      <td>SL MANDARINEN BEH.ES I 750G GS</td>\n",
       "      <td>1.991321</td>\n",
       "      <td>3.216415</td>\n",
       "      <td>0.0</td>\n",
       "      <td>2.0</td>\n",
       "      <td>5.98</td>\n",
       "      <td>1.225094</td>\n",
       "      <td>-2.0</td>\n",
       "    </tr>\n",
       "    <tr>\n",
       "      <th>2021-04-03</th>\n",
       "      <td>2021-04-03</td>\n",
       "      <td>80317483</td>\n",
       "      <td>ROMA TOMATEN ES I 500G SF</td>\n",
       "      <td>0.978451</td>\n",
       "      <td>1.546338</td>\n",
       "      <td>40.0</td>\n",
       "      <td>17.0</td>\n",
       "      <td>25.33</td>\n",
       "      <td>0.567887</td>\n",
       "      <td>23.0</td>\n",
       "    </tr>\n",
       "    <tr>\n",
       "      <th>2021-04-04</th>\n",
       "      <td>2021-04-04</td>\n",
       "      <td>80317483</td>\n",
       "      <td>ROMA TOMATEN ES I 500G SF</td>\n",
       "      <td>0.978451</td>\n",
       "      <td>1.546338</td>\n",
       "      <td>0.0</td>\n",
       "      <td>0.0</td>\n",
       "      <td>0.00</td>\n",
       "      <td>0.567887</td>\n",
       "      <td>0.0</td>\n",
       "    </tr>\n",
       "    <tr>\n",
       "      <th>2021-04-04</th>\n",
       "      <td>2021-04-04</td>\n",
       "      <td>80028349</td>\n",
       "      <td>UH ZWIEBELN DE-HE I 1KG GS</td>\n",
       "      <td>0.674928</td>\n",
       "      <td>1.055314</td>\n",
       "      <td>0.0</td>\n",
       "      <td>0.0</td>\n",
       "      <td>0.00</td>\n",
       "      <td>0.380386</td>\n",
       "      <td>0.0</td>\n",
       "    </tr>\n",
       "  </tbody>\n",
       "</table>\n",
       "</div>"
      ],
      "text/plain": [
       "                   day  item_number                       item_name  \\\n",
       "day                                                                   \n",
       "2021-04-03  2021-04-03     80028349      UH ZWIEBELN DE-HE I 1KG GS   \n",
       "2021-04-03  2021-04-03     80101923  SL MANDARINEN BEH.ES I 750G GS   \n",
       "2021-04-03  2021-04-03     80317483       ROMA TOMATEN ES I 500G SF   \n",
       "2021-04-04  2021-04-04     80317483       ROMA TOMATEN ES I 500G SF   \n",
       "2021-04-04  2021-04-04     80028349      UH ZWIEBELN DE-HE I 1KG GS   \n",
       "\n",
       "            purchase_price  suggested_retail_price  orders_quantity  \\\n",
       "day                                                                   \n",
       "2021-04-03        0.674928                1.055314              0.0   \n",
       "2021-04-03        1.991321                3.216415              0.0   \n",
       "2021-04-03        0.978451                1.546338             40.0   \n",
       "2021-04-04        0.978451                1.546338              0.0   \n",
       "2021-04-04        0.674928                1.055314              0.0   \n",
       "\n",
       "            sales_quantity  revenue  profit_margin  rest_quantity  \n",
       "day                                                                \n",
       "2021-04-03            23.0    22.77       0.380386          -23.0  \n",
       "2021-04-03             2.0     5.98       1.225094           -2.0  \n",
       "2021-04-03            17.0    25.33       0.567887           23.0  \n",
       "2021-04-04             0.0     0.00       0.567887            0.0  \n",
       "2021-04-04             0.0     0.00       0.380386            0.0  "
      ]
     },
     "execution_count": 7,
     "metadata": {},
     "output_type": "execute_result"
    }
   ],
   "source": [
    "data.head()"
   ]
  },
  {
   "cell_type": "code",
   "execution_count": 8,
   "id": "8f775416",
   "metadata": {},
   "outputs": [
    {
     "data": {
      "text/plain": [
       "Index(['day', 'item_number', 'item_name', 'purchase_price',\n",
       "       'suggested_retail_price', 'orders_quantity', 'sales_quantity',\n",
       "       'revenue', 'profit_margin', 'rest_quantity'],\n",
       "      dtype='object')"
      ]
     },
     "execution_count": 8,
     "metadata": {},
     "output_type": "execute_result"
    }
   ],
   "source": [
    "data.columns"
   ]
  },
  {
   "cell_type": "code",
   "execution_count": 9,
   "id": "12a500f3",
   "metadata": {},
   "outputs": [],
   "source": [
    "# Select the features and target variable\n",
    "X = data[['purchase_price', 'suggested_retail_price', 'orders_quantity','revenue', 'profit_margin']] \n",
    "y = data['sales_quantity']\n"
   ]
  },
  {
   "cell_type": "code",
   "execution_count": 10,
   "id": "df88d34d",
   "metadata": {},
   "outputs": [],
   "source": [
    "# Split the data into training and testing sets\n",
    "X_train, X_test, y_train, y_test = train_test_split(X, y, test_size=0.2, random_state=42)\n"
   ]
  },
  {
   "cell_type": "markdown",
   "id": "f000afd2",
   "metadata": {},
   "source": [
    "## 1- Linear Regression model "
   ]
  },
  {
   "cell_type": "code",
   "execution_count": 11,
   "id": "c51c3fb7",
   "metadata": {},
   "outputs": [
    {
     "name": "stdout",
     "output_type": "stream",
     "text": [
      "R-squared: 0.8860543913546675\n"
     ]
    }
   ],
   "source": [
    "# Initialize the linear regression model\n",
    "model = LinearRegression()\n",
    "\n",
    "# Fit the model to the training data\n",
    "model.fit(X_train, y_train)\n",
    "\n",
    "# Make predictions on the testing data\n",
    "y_pred = model.predict(X_test)\n",
    "\n",
    "# Evaluate the performance of the model using the R-squared metric\n",
    "r_squared = model.score(X_test, y_test)\n",
    "print('R-squared:', r_squared)"
   ]
  },
  {
   "cell_type": "code",
   "execution_count": 12,
   "id": "845973e6",
   "metadata": {},
   "outputs": [
    {
     "name": "stdout",
     "output_type": "stream",
     "text": [
      "RMSE: 3.737823288783648\n"
     ]
    }
   ],
   "source": [
    "mse = np.mean((y_pred - y_test) ** 2)\n",
    "rmse = np.sqrt(mse)\n",
    "print('RMSE:', rmse)"
   ]
  },
  {
   "cell_type": "markdown",
   "id": "5aa7ba34",
   "metadata": {},
   "source": [
    "we obtain a good metrics 0.88 wich is near to 1. "
   ]
  },
  {
   "cell_type": "markdown",
   "id": "6365b196",
   "metadata": {},
   "source": [
    "## 2- Time Series Approch"
   ]
  },
  {
   "cell_type": "code",
   "execution_count": 13,
   "id": "80c25878",
   "metadata": {},
   "outputs": [],
   "source": [
    "from statsmodels.tsa.seasonal import seasonal_decompose"
   ]
  },
  {
   "cell_type": "code",
   "execution_count": 14,
   "id": "667f54e7",
   "metadata": {},
   "outputs": [
    {
     "data": {
      "text/plain": [
       "<AxesSubplot:xlabel='day'>"
      ]
     },
     "execution_count": 14,
     "metadata": {},
     "output_type": "execute_result"
    },
    {
     "data": {
      "image/png": "[encoded data removed]",
      "text/plain": [
       "<Figure size 1008x288 with 1 Axes>"
      ]
     },
     "metadata": {},
     "output_type": "display_data"
    }
   ],
   "source": [
    "data.plot(y=\"sales_quantity\", figsize=(14,4))"
   ]
  },
  {
   "cell_type": "markdown",
   "id": "acf271f4",
   "metadata": {},
   "source": [
    "we may try to work with tho log of sales_quantity"
   ]
  },
  {
   "cell_type": "code",
   "execution_count": null,
   "id": "6f0abcd3",
   "metadata": {},
   "outputs": [],
   "source": []
  },
  {
   "cell_type": "code",
   "execution_count": 15,
   "id": "8253db42",
   "metadata": {},
   "outputs": [],
   "source": [
    "data.index = pd.to_datetime(data.index)\n",
    "data.index=data.index.strftime(\"%Y-%m-%d\")"
   ]
  },
  {
   "cell_type": "code",
   "execution_count": 16,
   "id": "20647a3f",
   "metadata": {},
   "outputs": [
    {
     "data": {
      "text/html": [
       "<div>\n",
       "<style scoped>\n",
       "    .dataframe tbody tr th:only-of-type {\n",
       "        vertical-align: middle;\n",
       "    }\n",
       "\n",
       "    .dataframe tbody tr th {\n",
       "        vertical-align: top;\n",
       "    }\n",
       "\n",
       "    .dataframe thead th {\n",
       "        text-align: right;\n",
       "    }\n",
       "</style>\n",
       "<table border=\"1\" class=\"dataframe\">\n",
       "  <thead>\n",
       "    <tr style=\"text-align: right;\">\n",
       "      <th></th>\n",
       "      <th>day</th>\n",
       "      <th>item_number</th>\n",
       "      <th>item_name</th>\n",
       "      <th>purchase_price</th>\n",
       "      <th>suggested_retail_price</th>\n",
       "      <th>orders_quantity</th>\n",
       "      <th>sales_quantity</th>\n",
       "      <th>revenue</th>\n",
       "      <th>profit_margin</th>\n",
       "      <th>rest_quantity</th>\n",
       "    </tr>\n",
       "    <tr>\n",
       "      <th>day</th>\n",
       "      <th></th>\n",
       "      <th></th>\n",
       "      <th></th>\n",
       "      <th></th>\n",
       "      <th></th>\n",
       "      <th></th>\n",
       "      <th></th>\n",
       "      <th></th>\n",
       "      <th></th>\n",
       "      <th></th>\n",
       "    </tr>\n",
       "  </thead>\n",
       "  <tbody>\n",
       "    <tr>\n",
       "      <th>2021-04-03</th>\n",
       "      <td>2021-04-03</td>\n",
       "      <td>80028349</td>\n",
       "      <td>UH ZWIEBELN DE-HE I 1KG GS</td>\n",
       "      <td>0.674928</td>\n",
       "      <td>1.055314</td>\n",
       "      <td>0.0</td>\n",
       "      <td>23.0</td>\n",
       "      <td>22.77</td>\n",
       "      <td>0.380386</td>\n",
       "      <td>-23.0</td>\n",
       "    </tr>\n",
       "    <tr>\n",
       "      <th>2021-04-03</th>\n",
       "      <td>2021-04-03</td>\n",
       "      <td>80101923</td>\n",
       "      <td>SL MANDARINEN BEH.ES I 750G GS</td>\n",
       "      <td>1.991321</td>\n",
       "      <td>3.216415</td>\n",
       "      <td>0.0</td>\n",
       "      <td>2.0</td>\n",
       "      <td>5.98</td>\n",
       "      <td>1.225094</td>\n",
       "      <td>-2.0</td>\n",
       "    </tr>\n",
       "    <tr>\n",
       "      <th>2021-04-03</th>\n",
       "      <td>2021-04-03</td>\n",
       "      <td>80317483</td>\n",
       "      <td>ROMA TOMATEN ES I 500G SF</td>\n",
       "      <td>0.978451</td>\n",
       "      <td>1.546338</td>\n",
       "      <td>40.0</td>\n",
       "      <td>17.0</td>\n",
       "      <td>25.33</td>\n",
       "      <td>0.567887</td>\n",
       "      <td>23.0</td>\n",
       "    </tr>\n",
       "    <tr>\n",
       "      <th>2021-04-04</th>\n",
       "      <td>2021-04-04</td>\n",
       "      <td>80317483</td>\n",
       "      <td>ROMA TOMATEN ES I 500G SF</td>\n",
       "      <td>0.978451</td>\n",
       "      <td>1.546338</td>\n",
       "      <td>0.0</td>\n",
       "      <td>0.0</td>\n",
       "      <td>0.00</td>\n",
       "      <td>0.567887</td>\n",
       "      <td>0.0</td>\n",
       "    </tr>\n",
       "    <tr>\n",
       "      <th>2021-04-04</th>\n",
       "      <td>2021-04-04</td>\n",
       "      <td>80028349</td>\n",
       "      <td>UH ZWIEBELN DE-HE I 1KG GS</td>\n",
       "      <td>0.674928</td>\n",
       "      <td>1.055314</td>\n",
       "      <td>0.0</td>\n",
       "      <td>0.0</td>\n",
       "      <td>0.00</td>\n",
       "      <td>0.380386</td>\n",
       "      <td>0.0</td>\n",
       "    </tr>\n",
       "  </tbody>\n",
       "</table>\n",
       "</div>"
      ],
      "text/plain": [
       "                   day  item_number                       item_name  \\\n",
       "day                                                                   \n",
       "2021-04-03  2021-04-03     80028349      UH ZWIEBELN DE-HE I 1KG GS   \n",
       "2021-04-03  2021-04-03     80101923  SL MANDARINEN BEH.ES I 750G GS   \n",
       "2021-04-03  2021-04-03     80317483       ROMA TOMATEN ES I 500G SF   \n",
       "2021-04-04  2021-04-04     80317483       ROMA TOMATEN ES I 500G SF   \n",
       "2021-04-04  2021-04-04     80028349      UH ZWIEBELN DE-HE I 1KG GS   \n",
       "\n",
       "            purchase_price  suggested_retail_price  orders_quantity  \\\n",
       "day                                                                   \n",
       "2021-04-03        0.674928                1.055314              0.0   \n",
       "2021-04-03        1.991321                3.216415              0.0   \n",
       "2021-04-03        0.978451                1.546338             40.0   \n",
       "2021-04-04        0.978451                1.546338              0.0   \n",
       "2021-04-04        0.674928                1.055314              0.0   \n",
       "\n",
       "            sales_quantity  revenue  profit_margin  rest_quantity  \n",
       "day                                                                \n",
       "2021-04-03            23.0    22.77       0.380386          -23.0  \n",
       "2021-04-03             2.0     5.98       1.225094           -2.0  \n",
       "2021-04-03            17.0    25.33       0.567887           23.0  \n",
       "2021-04-04             0.0     0.00       0.567887            0.0  \n",
       "2021-04-04             0.0     0.00       0.380386            0.0  "
      ]
     },
     "execution_count": 16,
     "metadata": {},
     "output_type": "execute_result"
    }
   ],
   "source": [
    "data.head()"
   ]
  },
  {
   "cell_type": "code",
   "execution_count": 29,
   "id": "9fbedd1b",
   "metadata": {},
   "outputs": [
    {
     "ename": "ValueError",
     "evalue": "You must specify a period or x must be a pandas object with a PeriodIndex or a DatetimeIndex with a freq not set to None",
     "output_type": "error",
     "traceback": [
      "\u001b[0;31m---------------------------------------------------------------------------\u001b[0m",
      "\u001b[0;31mValueError\u001b[0m                                Traceback (most recent call last)",
      "\u001b[0;32m/tmp/ipykernel_10332/1336285229.py\u001b[0m in \u001b[0;36m<module>\u001b[0;34m\u001b[0m\n\u001b[0;32m----> 1\u001b[0;31m \u001b[0mseasonal_decompose\u001b[0m\u001b[0;34m(\u001b[0m\u001b[0mdata\u001b[0m\u001b[0;34m[\u001b[0m\u001b[0;34m\"sales_quantity\"\u001b[0m\u001b[0;34m]\u001b[0m\u001b[0;34m)\u001b[0m\u001b[0;34m\u001b[0m\u001b[0;34m\u001b[0m\u001b[0m\n\u001b[0m",
      "\u001b[0;32m/opt/conda/lib/python3.7/site-packages/statsmodels/tsa/seasonal.py\u001b[0m in \u001b[0;36mseasonal_decompose\u001b[0;34m(x, model, filt, period, two_sided, extrapolate_trend)\u001b[0m\n\u001b[1;32m    158\u001b[0m         \u001b[0;32melse\u001b[0m\u001b[0;34m:\u001b[0m\u001b[0;34m\u001b[0m\u001b[0;34m\u001b[0m\u001b[0m\n\u001b[1;32m    159\u001b[0m             raise ValueError(\n\u001b[0;32m--> 160\u001b[0;31m                 \u001b[0;34m\"You must specify a period or x must be a pandas object with \"\u001b[0m\u001b[0;34m\u001b[0m\u001b[0;34m\u001b[0m\u001b[0m\n\u001b[0m\u001b[1;32m    161\u001b[0m                 \u001b[0;34m\"a PeriodIndex or a DatetimeIndex with a freq not set to None\"\u001b[0m\u001b[0;34m\u001b[0m\u001b[0;34m\u001b[0m\u001b[0m\n\u001b[1;32m    162\u001b[0m             )\n",
      "\u001b[0;31mValueError\u001b[0m: You must specify a period or x must be a pandas object with a PeriodIndex or a DatetimeIndex with a freq not set to None"
     ]
    }
   ],
   "source": [
    " seasonal_decompose(data[\"sales_quantity\"])"
   ]
  },
  {
   "cell_type": "code",
   "execution_count": 28,
   "id": "7521ee81",
   "metadata": {},
   "outputs": [
    {
     "ename": "ValueError",
     "evalue": "This function does not handle missing values",
     "output_type": "error",
     "traceback": [
      "\u001b[0;31m---------------------------------------------------------------------------\u001b[0m",
      "\u001b[0;31mValueError\u001b[0m                                Traceback (most recent call last)",
      "\u001b[0;32m/tmp/ipykernel_10332/3427434490.py\u001b[0m in \u001b[0;36m<module>\u001b[0;34m\u001b[0m\n\u001b[1;32m      2\u001b[0m \u001b[0mx\u001b[0m\u001b[0;34m=\u001b[0m \u001b[0mx\u001b[0m\u001b[0;34m.\u001b[0m\u001b[0mastype\u001b[0m\u001b[0;34m(\u001b[0m\u001b[0mint\u001b[0m\u001b[0;34m)\u001b[0m\u001b[0;34m\u001b[0m\u001b[0;34m\u001b[0m\u001b[0m\n\u001b[1;32m      3\u001b[0m \u001b[0my\u001b[0m \u001b[0;34m=\u001b[0m \u001b[0mnp\u001b[0m\u001b[0;34m.\u001b[0m\u001b[0mlog\u001b[0m\u001b[0;34m(\u001b[0m\u001b[0mx\u001b[0m\u001b[0;34m)\u001b[0m\u001b[0;34m\u001b[0m\u001b[0;34m\u001b[0m\u001b[0m\n\u001b[0;32m----> 4\u001b[0;31m \u001b[0mdecomp_y\u001b[0m \u001b[0;34m=\u001b[0m \u001b[0mseasonal_decompose\u001b[0m\u001b[0;34m(\u001b[0m\u001b[0my\u001b[0m\u001b[0;34m,\u001b[0m  \u001b[0mmodel\u001b[0m\u001b[0;34m=\u001b[0m\u001b[0;34m'additive'\u001b[0m\u001b[0;34m)\u001b[0m\u001b[0;34m\u001b[0m\u001b[0;34m\u001b[0m\u001b[0m\n\u001b[0m\u001b[1;32m      5\u001b[0m \u001b[0mdecomp_y\u001b[0m\u001b[0;34m.\u001b[0m\u001b[0mplot\u001b[0m\u001b[0;34m(\u001b[0m\u001b[0;34m)\u001b[0m\u001b[0;34m\u001b[0m\u001b[0;34m\u001b[0m\u001b[0m\n\u001b[1;32m      6\u001b[0m \u001b[0mplt\u001b[0m\u001b[0;34m.\u001b[0m\u001b[0mshow\u001b[0m\u001b[0;34m(\u001b[0m\u001b[0;34m)\u001b[0m\u001b[0;34m\u001b[0m\u001b[0;34m\u001b[0m\u001b[0m\n",
      "\u001b[0;32m/opt/conda/lib/python3.7/site-packages/statsmodels/tsa/seasonal.py\u001b[0m in \u001b[0;36mseasonal_decompose\u001b[0;34m(x, model, filt, period, two_sided, extrapolate_trend)\u001b[0m\n\u001b[1;32m    144\u001b[0m \u001b[0;34m\u001b[0m\u001b[0m\n\u001b[1;32m    145\u001b[0m     \u001b[0;32mif\u001b[0m \u001b[0;32mnot\u001b[0m \u001b[0mnp\u001b[0m\u001b[0;34m.\u001b[0m\u001b[0mall\u001b[0m\u001b[0;34m(\u001b[0m\u001b[0mnp\u001b[0m\u001b[0;34m.\u001b[0m\u001b[0misfinite\u001b[0m\u001b[0;34m(\u001b[0m\u001b[0mx\u001b[0m\u001b[0;34m)\u001b[0m\u001b[0;34m)\u001b[0m\u001b[0;34m:\u001b[0m\u001b[0;34m\u001b[0m\u001b[0;34m\u001b[0m\u001b[0m\n\u001b[0;32m--> 146\u001b[0;31m         \u001b[0;32mraise\u001b[0m \u001b[0mValueError\u001b[0m\u001b[0;34m(\u001b[0m\u001b[0;34m\"This function does not handle missing values\"\u001b[0m\u001b[0;34m)\u001b[0m\u001b[0;34m\u001b[0m\u001b[0;34m\u001b[0m\u001b[0m\n\u001b[0m\u001b[1;32m    147\u001b[0m     \u001b[0;32mif\u001b[0m \u001b[0mmodel\u001b[0m\u001b[0;34m.\u001b[0m\u001b[0mstartswith\u001b[0m\u001b[0;34m(\u001b[0m\u001b[0;34m\"m\"\u001b[0m\u001b[0;34m)\u001b[0m\u001b[0;34m:\u001b[0m\u001b[0;34m\u001b[0m\u001b[0;34m\u001b[0m\u001b[0m\n\u001b[1;32m    148\u001b[0m         \u001b[0;32mif\u001b[0m \u001b[0mnp\u001b[0m\u001b[0;34m.\u001b[0m\u001b[0many\u001b[0m\u001b[0;34m(\u001b[0m\u001b[0mx\u001b[0m \u001b[0;34m<=\u001b[0m \u001b[0;36m0\u001b[0m\u001b[0;34m)\u001b[0m\u001b[0;34m:\u001b[0m\u001b[0;34m\u001b[0m\u001b[0;34m\u001b[0m\u001b[0m\n",
      "\u001b[0;31mValueError\u001b[0m: This function does not handle missing values"
     ]
    }
   ],
   "source": [
    "x = data[\"sales_quantity\"]\n",
    "x= x.astype(int)\n",
    "y = np.log(x)\n",
    "decomp_y = seasonal_decompose(y,  model='additive')\n",
    "decomp_y.plot()\n",
    "plt.show()"
   ]
  },
  {
   "cell_type": "code",
   "execution_count": null,
   "id": "7f93b23a",
   "metadata": {},
   "outputs": [],
   "source": []
  },
  {
   "cell_type": "markdown",
   "id": "462ea68c-e1ba-4751-94fb-c943852e02c8",
   "metadata": {},
   "source": [
    "## MLP for Time Series Forecasting"
   ]
  },
  {
   "cell_type": "code",
   "execution_count": 20,
   "id": "fa46c2fb-b13b-44a2-973a-e687a7f6310b",
   "metadata": {},
   "outputs": [],
   "source": [
    "import tensorflow as tf\n",
    "from tensorflow import keras\n",
    "from tensorflow.keras import layers\n",
    "from keras.layers.core import Dense, Dropout, Flatten\n",
    "from tensorflow.keras import Sequential\n",
    "from tensorflow.keras.layers import Dense\n",
    "from tensorflow.keras.optimizers import Adam\n",
    "from tensorflow.keras import backend as K\n",
    "from keras import optimizers\n",
    "from keras.models import Sequential, Model\n",
    "from keras.layers.convolutional import Conv1D, MaxPooling1D\n",
    "from keras.layers import Dense, LSTM, RepeatVector, TimeDistributed, Flatten\n",
    "from sklearn.metrics import mean_squared_error\n",
    "from sklearn.model_selection import train_test_split"
   ]
  },
  {
   "cell_type": "code",
   "execution_count": 48,
   "id": "a6b5a211-9a25-4631-81a3-fc8a1b60ff5f",
   "metadata": {},
   "outputs": [],
   "source": [
    "#Upload Data input for training\n",
    "data = pd.read_csv(\"data_input.csv\",sep=\",\")"
   ]
  },
  {
   "cell_type": "code",
   "execution_count": 49,
   "id": "0ddfceb0-05cc-48ae-a53c-ebf185c2efe4",
   "metadata": {},
   "outputs": [
    {
     "data": {
      "text/plain": [
       "Index(['day', 'item_number', 'item_name', 'purchase_price',\n",
       "       'suggested_retail_price', 'orders_quantity', 'sales_quantity',\n",
       "       'revenue', 'profit_margin', 'rest_quantity'],\n",
       "      dtype='object')"
      ]
     },
     "execution_count": 49,
     "metadata": {},
     "output_type": "execute_result"
    }
   ],
   "source": [
    "data.columns"
   ]
  },
  {
   "cell_type": "code",
   "execution_count": 36,
   "id": "ffa7cdb0-63c3-46fe-a5c7-c23a72f593f5",
   "metadata": {},
   "outputs": [],
   "source": [
    "features=['item_number',  'orders_quantity', 'revenue', 'profit_margin', ]"
   ]
  },
  {
   "cell_type": "code",
   "execution_count": 37,
   "id": "976d2dc1-e408-4380-ab88-a43e3eff5f91",
   "metadata": {},
   "outputs": [],
   "source": [
    "X = data[features] \n",
    "y = data['sales_quantity']\n"
   ]
  },
  {
   "cell_type": "code",
   "execution_count": 38,
   "id": "f18033b7-80e9-4575-9f44-4e755f32d841",
   "metadata": {},
   "outputs": [],
   "source": [
    "X_train, X_test, y_train, y_test = train_test_split(X, y, test_size=0.2, random_state=42)\n"
   ]
  },
  {
   "cell_type": "code",
   "execution_count": 52,
   "id": "b406e00e-e20c-4e72-a820-c79ef301ef05",
   "metadata": {},
   "outputs": [
    {
     "ename": "NameError",
     "evalue": "name 'Ytrain' is not defined",
     "output_type": "error",
     "traceback": [
      "\u001b[0;31m---------------------------------------------------------------------------\u001b[0m",
      "\u001b[0;31mNameError\u001b[0m                                 Traceback (most recent call last)",
      "\u001b[0;32m/tmp/ipykernel_10332/2104109615.py\u001b[0m in \u001b[0;36m<module>\u001b[0;34m\u001b[0m\n\u001b[1;32m     11\u001b[0m \u001b[0mpredi_train\u001b[0m \u001b[0;34m=\u001b[0m \u001b[0mmodel\u001b[0m\u001b[0;34m.\u001b[0m\u001b[0mpredict\u001b[0m\u001b[0;34m(\u001b[0m\u001b[0mX_train\u001b[0m\u001b[0;34m)\u001b[0m\u001b[0;34m\u001b[0m\u001b[0;34m\u001b[0m\u001b[0m\n\u001b[1;32m     12\u001b[0m \u001b[0mpredi_test\u001b[0m \u001b[0;34m=\u001b[0m \u001b[0mmodel\u001b[0m\u001b[0;34m.\u001b[0m\u001b[0mpredict\u001b[0m\u001b[0;34m(\u001b[0m\u001b[0mX_test\u001b[0m\u001b[0;34m)\u001b[0m\u001b[0;34m\u001b[0m\u001b[0;34m\u001b[0m\u001b[0m\n\u001b[0;32m---> 13\u001b[0;31m \u001b[0mYtrain\u001b[0m\u001b[0;34m[\u001b[0m\u001b[0mPREDICTION\u001b[0m\u001b[0;34m]\u001b[0m \u001b[0;34m=\u001b[0m \u001b[0mpredi_train\u001b[0m\u001b[0;34m\u001b[0m\u001b[0;34m\u001b[0m\u001b[0m\n\u001b[0m\u001b[1;32m     14\u001b[0m \u001b[0mYtest\u001b[0m\u001b[0;34m[\u001b[0m\u001b[0mPREDICTION\u001b[0m\u001b[0;34m]\u001b[0m \u001b[0;34m=\u001b[0m \u001b[0mpredi_test\u001b[0m\u001b[0;34m\u001b[0m\u001b[0;34m\u001b[0m\u001b[0m\n\u001b[1;32m     15\u001b[0m \u001b[0;34m\u001b[0m\u001b[0m\n",
      "\u001b[0;31mNameError\u001b[0m: name 'Ytrain' is not defined"
     ]
    }
   ],
   "source": [
    "model = keras.Sequential()\n",
    "model = keras.Sequential([\n",
    "    keras.layers.Dense(units=64, activation='relu'),\n",
    "    keras.layers.Dense(units=10, activation='softmax')\n",
    "])\n",
    "\n",
    "model.compile(loss='mse', optimizer='sgd')\n",
    "\n",
    "#model.fit(Xtrain, ytrain, epochs=100, verbose=0)\n",
    "history = model.fit(X_train, y_train, epochs=e, validation_data=(X_test, y_test), verbose=0, shuffle=False)\n",
    "predi_train = model.predict(X_train)\n",
    "predi_test = model.predict(X_test)\n",
    "Y_train[PREDICTION] = predi_train\n",
    "Y_test[PREDICTION] = predi_test\n",
    "\n",
    "plt.plot(history.history['loss'])\n",
    "plt.plot(history.history['val_loss'])\n",
    "plt.title('model loss')\n",
    "plt.ylabel('loss')\n",
    "plt.xlabel('epoch')\n",
    "plt.legend(['train', 'test'], loc='upper right')\n",
    "plt.show()"
   ]
  }
 ],
 "metadata": {
  "environment": {
   "kernel": "python3",
   "name": "tf2-gpu.2-6.m95",
   "type": "gcloud",
   "uri": "gcr.io/deeplearning-platform-release/tf2-gpu.2-6:m95"
  },
  "kernelspec": {
   "display_name": "Python 3",
   "language": "python",
   "name": "python3"
  },
  "language_info": {
   "codemirror_mode": {
    "name": "ipython",
    "version": 3
   },
   "file_extension": ".py",
   "mimetype": "text/x-python",
   "name": "python",
   "nbconvert_exporter": "python",
   "pygments_lexer": "ipython3",
   "version": "3.7.12"
  }
 },
 "nbformat": 4,
 "nbformat_minor": 5
}
